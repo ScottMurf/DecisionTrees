{
 "cells": [
  {
   "cell_type": "code",
   "execution_count": 1,
   "id": "251e8959",
   "metadata": {},
   "outputs": [],
   "source": [
    "#Imports\n",
    "from implementation import Node, format_dataframe, training_test_split\n",
    "from implementation import accuracy, printTree, visualise_splits, visualise_best_feature\n",
    "import os\n",
    "from sklearn import tree\n",
    "from sklearn.metrics import accuracy_score"
   ]
  },
  {
   "cell_type": "markdown",
   "id": "075c515f",
   "metadata": {},
   "source": [
    "## Steps to run the algorithm:\n",
    "\n",
    "1. Data must be provided in .csv format. Use format_dataframe() to get data in correct format for the algorithm. The first argument specifies the .csv file and the second argument specifies the label column name.\n",
    "2. Create a Node object to create the tree structure. The first argument is the Root dataframe. Other arguments that can be included are max_depth, criterion.\n",
    "3. accuracy function can be used to test the performance on a test dataset. "
   ]
  },
  {
   "cell_type": "code",
   "execution_count": 2,
   "id": "07f52c18",
   "metadata": {},
   "outputs": [
    {
     "name": "stdout",
     "output_type": "stream",
     "text": [
      "82.61%\n"
     ]
    }
   ],
   "source": [
    "# Format dataframe\n",
    "X = format_dataframe(\"wildfires.csv\", \"yes\")\n",
    "# Train/Test Splitting\n",
    "X1, Test = training_test_split(X, 0.6666)\n",
    "# Create the Tree\n",
    "Root = Node(X1, max_depth=6,criterion= \"ent\")\n",
    "# Print the accuracy\n",
    "print(\"{}%\".format(round(accuracy(Test, Root), 2)))"
   ]
  },
  {
   "cell_type": "markdown",
   "id": "ff1289d8",
   "metadata": {},
   "source": [
    "## Accessing nodes and their information:\n"
   ]
  },
  {
   "cell_type": "code",
   "execution_count": 37,
   "id": "ef0956c7",
   "metadata": {},
   "outputs": [
    {
     "name": "stdout",
     "output_type": "stream",
     "text": [
      "Nodes under root: [<implementation.Node object at 0x000001D1AE5FC850>, <implementation.Node object at 0x000001D1AE648BB0>]\n",
      "\n",
      "First node under root: <implementation.Node object at 0x000001D1AE5FC850>\n",
      "\n",
      "This split corresponds to : over\n",
      "\n",
      "Feature for splitting this node: rainfall\n",
      "\n",
      "<implementation.Node object at 0x000001D1AE6531F0>\n"
     ]
    }
   ],
   "source": [
    "#Access all nodes under the root\n",
    "print(\"Nodes under root:\",Root.under)\n",
    "print()\n",
    "#Use subsetting to select node\n",
    "print(\"First node under root:\",Root.under[0])\n",
    "#Can get information out of each node using methods\n",
    "# df, key, feat, threshold(for numerical feature splits)\n",
    "#uncomment this line Get dataframe of this node\n",
    "#print(Root.under[0].df)\n",
    "print()\n",
    "#Can use key to see which split from the parent node the current node belongs to\n",
    "print(\"This split corresponds to :\",Root.under[0].key)\n",
    "#Get feature used to split this node\n",
    "print()\n",
    "print(\"Feature for splitting this node:\",Root.under[0].feat)\n",
    "#This returns over, meaning it is over the numerical threshold of the parents feature split\n",
    "\n",
    "#These methods can be combined to access any part of the Decision Tree structure and get information about it \n",
    "#Example:\n",
    "print()\n",
    "print(Root.under[1].under[0].under[1])"
   ]
  },
  {
   "cell_type": "code",
   "execution_count": 3,
   "id": "c0caae2a",
   "metadata": {},
   "outputs": [
    {
     "name": "stdout",
     "output_type": "stream",
     "text": [
      "0  > Root / feature: drought_code / split: 18.4 / Maj Class= yes\n",
      "1 ---------- > over / feature: rainfall / split: 0.15000000000000002 / Maj Class= yes\n",
      "2 -------------------- > over / feature: humidity / split: 46.5 / Maj Class= no\n",
      "3 ------------------------------ > over / feature: temp / split: 34.5 / Maj Class= no\n",
      "4 ---------------------------------------- > over / feature: year / split: 2009.0 / Maj Class= yes\n",
      "5 -------------------------------------------------- > over / Maj Class= yes\n",
      "5 -------------------------------------------------- > under / Maj Class= no\n",
      "4 ---------------------------------------- > under / Maj Class= no\n",
      "3 ------------------------------ > under / Maj Class= yes\n",
      "2 -------------------- > under / feature: humidity / split: 69.5 / Maj Class= yes\n",
      "3 ------------------------------ > over / feature: drought_code / split: 49.94 / Maj Class= yes\n",
      "4 ---------------------------------------- > over / Maj Class= yes\n",
      "4 ---------------------------------------- > under / feature: humidity / split: 77.5 / Maj Class= no\n",
      "5 -------------------------------------------------- > over / Maj Class= no\n",
      "5 -------------------------------------------------- > under / Maj Class= yes\n",
      "3 ------------------------------ > under / Maj Class= yes\n",
      "1 ---------- > under / feature: temp / split: 35.5 / Maj Class= no\n",
      "2 -------------------- > over / feature: year / split: 2013.0 / Maj Class= no\n",
      "3 ------------------------------ > over / Maj Class= yes\n",
      "3 ------------------------------ > under / Maj Class= no\n",
      "2 -------------------- > under / Maj Class= no\n"
     ]
    }
   ],
   "source": [
    "printTree(Root)"
   ]
  },
  {
   "cell_type": "code",
   "execution_count": null,
   "id": "8f919738",
   "metadata": {},
   "outputs": [],
   "source": []
  }
 ],
 "metadata": {
  "kernelspec": {
   "display_name": "Python 3",
   "language": "python",
   "name": "python3"
  },
  "language_info": {
   "codemirror_mode": {
    "name": "ipython",
    "version": 3
   },
   "file_extension": ".py",
   "mimetype": "text/x-python",
   "name": "python",
   "nbconvert_exporter": "python",
   "pygments_lexer": "ipython3",
   "version": "3.8.8"
  }
 },
 "nbformat": 4,
 "nbformat_minor": 5
}
